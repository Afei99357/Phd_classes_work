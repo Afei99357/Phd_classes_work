{
 "cells": [
  {
   "cell_type": "code",
   "execution_count": 1,
   "metadata": {
    "collapsed": true,
    "pycharm": {
     "name": "#%%\n"
    }
   },
   "outputs": [
    {
     "name": "stderr",
     "output_type": "stream",
     "text": [
      "\n",
      "KeyboardInterrupt\n",
      "\n"
     ]
    }
   ],
   "source": [
    "import matplotlib.pyplot as plt\n",
    "\n",
    "# defining labels\n",
    "activities = ['eat', 'sleep', 'work', 'play']\n",
    "\n",
    "# portion covered by each label\n",
    "slices = [3, 7, 8, 6]\n",
    "\n",
    "# color for each label\n",
    "colors = ['r', 'y', 'g', 'b']\n",
    "\n",
    "# plotting the pie chart\n",
    "plt.pie(slices, labels = activities, colors=colors,\n",
    "        startangle=90, shadow = True, explode = (0, 0, 0.1, 0),\n",
    "        radius = 1.2, autopct = '%1.1f%%')\n",
    "\n",
    "# plotting legend\n",
    "plt.legend()\n",
    "\n",
    "# showing the plot\n",
    "plt.show()"
   ]
  }
 ],
 "metadata": {
  "kernelspec": {
   "display_name": "Python 3",
   "language": "python",
   "name": "python3"
  },
  "language_info": {
   "codemirror_mode": {
    "name": "ipython",
    "version": 2
   },
   "file_extension": ".py",
   "mimetype": "text/x-python",
   "name": "python",
   "nbconvert_exporter": "python",
   "pygments_lexer": "ipython2",
   "version": "2.7.6"
  }
 },
 "nbformat": 4,
 "nbformat_minor": 0
}